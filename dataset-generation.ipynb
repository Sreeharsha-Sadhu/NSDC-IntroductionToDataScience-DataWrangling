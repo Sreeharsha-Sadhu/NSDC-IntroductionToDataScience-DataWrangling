{
 "cells": [
  {
   "cell_type": "code",
   "id": "initial_id",
   "metadata": {
    "collapsed": true,
    "ExecuteTime": {
     "end_time": "2025-02-17T06:25:42.895059Z",
     "start_time": "2025-02-17T06:25:42.362365Z"
    }
   },
   "source": [
    "import pandas as pd\n",
    "import numpy as np\n",
    "import random\n",
    "\n",
    "# Set random seed for reproducibility\n",
    "np.random.seed(42)\n",
    "\n",
    "# Generate synthetic dataset\n",
    "num_rows = 5000\n",
    "\n",
    "# 1. ID Column (unique identifier)\n",
    "ids = np.arange(1, num_rows + 1)\n",
    "\n",
    "# 2. Name Column (some duplicates for cleaning practice)\n",
    "names = [random.choice([\"Alice\", \"Bob\", \"Charlie\", \"David\", \"Eve\", \"Frank\", \"Grace\", \"Hank\"]) for _ in range(num_rows)]\n",
    "names[50] = \"Alice \"  # Intentional trailing space (inconsistent data)\n",
    "names[200] = \"bob\"     # Lowercase variation (inconsistent data)\n",
    "\n",
    "# 3. Age (some outliers)\n",
    "ages = np.random.normal(35, 10, num_rows).astype(int)\n",
    "ages[100] = 150  # Intentional outlier\n",
    "ages[300] = -5   # Negative age (corrupted data)\n",
    "\n",
    "# 4. Salary (some missing values)\n",
    "salaries = np.random.normal(70000, 15000, num_rows).astype(int).astype(float)\n",
    "salaries[::30] = np.nan  # Introduce missing values\n",
    "\n",
    "# 5. Join Date (mixed formats)\n",
    "join_dates = pd.date_range(start=\"2015-01-01\", periods=num_rows, freq=\"D\").strftime('%Y-%m-%d').tolist()\n",
    "join_dates[25] = \"01/15/2018\"  # Different format (mm/dd/yyyy)\n",
    "join_dates[400] = \"March 5, 2019\"  # Different format (text month)\n",
    "\n",
    "# 6. Department (categorical with typos)\n",
    "departments = [random.choice([\"HR\", \"IT\", \"Finance\", \"Marketing\", \"IT \", \"Finanace\"]) for _ in range(num_rows)]\n",
    "\n",
    "# 7. Education Level (Ordinal categorical)\n",
    "education_levels = [random.choice([\"High School\", \"Bachelor's\", \"Master's\", \"PhD\"]) for _ in range(num_rows)]\n",
    "\n",
    "# 8. Work Experience (some missing values)\n",
    "work_experience = np.random.randint(0, 30, num_rows).astype(float)\n",
    "work_experience[::40] = np.nan  # Introduce missing values\n",
    "\n",
    "# 9. Performance Score (imbalanced target variable)\n",
    "performance_scores = np.random.choice([1, 2, 3, 4, 5], num_rows, p=[0.05, 0.15, 0.35, 0.35, 0.1])\n",
    "\n",
    "# 10. Bonus (has currency symbols)\n",
    "bonuses = np.random.randint(1000, 10000, num_rows).astype(str)\n",
    "bonuses = bonuses.astype(object)  # Ensure it's an object type for string operations\n",
    "for i in range(0, num_rows, 20):\n",
    "    bonuses[i] = \"$\" + bonuses[i]\n",
    "for i in range(0, num_rows, 50):\n",
    "    bonuses[i] = \"€\" + bonuses[i]\n",
    "\n",
    "# 11. Remote Work (Boolean categorical variable)\n",
    "remote_work = np.random.choice([0, 1], num_rows, p=[0.7, 0.3])\n",
    "\n",
    "# 12. Job Satisfaction Score (skewed distribution for log transformation)\n",
    "job_satisfaction = np.random.exponential(scale=3, size=num_rows)\n",
    "\n",
    "# 13. Customer Satisfaction Rating (values between 1-10, for scaling)\n",
    "customer_satisfaction = np.random.randint(1, 11, num_rows)\n",
    "\n",
    "# Creating DataFrame\n",
    "df = pd.DataFrame({\n",
    "    \"ID\": ids,\n",
    "    \"Name\": names,\n",
    "    \"Age\": ages,\n",
    "    \"Salary\": salaries,\n",
    "    \"Join_Date\": join_dates,\n",
    "    \"Department\": departments,\n",
    "    \"Education_Level\": education_levels,\n",
    "    \"Work_Experience\": work_experience,\n",
    "    \"Performance_Score\": performance_scores,\n",
    "    \"Bonus\": bonuses,\n",
    "    \"Remote_Work\": remote_work,\n",
    "    \"Job_Satisfaction\": job_satisfaction,\n",
    "    \"Customer_Satisfaction\": customer_satisfaction\n",
    "})\n",
    "\n",
    "# Save to CSV\n",
    "df.to_csv(\"./data/data_wrangling_dataset.csv\", index=False)\n",
    "\n",
    "print(\"Dataset saved as data_wrangling_dataset.csv\")"
   ],
   "outputs": [
    {
     "name": "stdout",
     "output_type": "stream",
     "text": [
      "Dataset saved as data_wrangling_dataset.csv\n"
     ]
    }
   ],
   "execution_count": 1
  }
 ],
 "metadata": {
  "kernelspec": {
   "display_name": "Python 3",
   "language": "python",
   "name": "python3"
  },
  "language_info": {
   "codemirror_mode": {
    "name": "ipython",
    "version": 2
   },
   "file_extension": ".py",
   "mimetype": "text/x-python",
   "name": "python",
   "nbconvert_exporter": "python",
   "pygments_lexer": "ipython2",
   "version": "2.7.6"
  }
 },
 "nbformat": 4,
 "nbformat_minor": 5
}
